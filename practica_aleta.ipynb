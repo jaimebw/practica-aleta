{
 "cells": [
  {
   "cell_type": "code",
   "execution_count": 31,
   "metadata": {},
   "outputs": [],
   "source": [
    "import numpy as np\n",
    "import pandas as pd\n",
    "import matplotlib.pyplot as plt\n",
    "from numpy import cosh, sinh\n",
    "import os\n",
    "if not os.path.exists(\"figuras/\"):\n",
    "    os.mkdir(\"figuras\")"
   ]
  },
  {
   "cell_type": "markdown",
   "metadata": {},
   "source": [
    "## Declaración de las funciones que se van a usar en la práctica"
   ]
  },
  {
   "cell_type": "code",
   "execution_count": 32,
   "metadata": {},
   "outputs": [],
   "source": [
    "def temp_conv(x,L,t_0,t_inf,h,m,k):\n",
    "    \"\"\"\n",
    "    Calcula el descenso de la temperatura convectiva a traves de la aleta\n",
    "    \"\"\"\n",
    "    hmk = h /(m*k)\n",
    "    t_conv = t_inf + (t0- t_inf)*(cosh(m*(L - x)) + hmk*sinh(m*(L - x)))/(cosh(m*L) + hmk*sinh(m*L))\n",
    "    return t_conv\n",
    "\n",
    "def temp_ad(x,L,t_0,t_inf,h,m,k):\n",
    "    \"\"\"\n",
    "    Calcula el descenso de la temperatura adibatica a traves de la aleta\n",
    "    \"\"\"\n",
    "    t_ad = t_inf  + (t0-t_inf )*(cosh(m*(L - x)))/cosh(m*L)\n",
    "    return t_ad\n",
    "\n",
    "def aleta_inf(t_inf,t_s,m,x):\n",
    "    \"\"\"\n",
    "    Calcula el descenso de la temperatura de la aleta con la condicion de aleta infinita\n",
    "    \"\"\"\n",
    "    t = t_inf + (t_s-t_inf)*np.exp(-m*x)\n",
    "    return t\n",
    "    \n",
    "def calor_conv(L,theta_b,h,m,k,P,Ac):\n",
    "    \"\"\"\n",
    "    Calcula el calor total perdido en caso de que haya convección\n",
    "    \"\"\"\n",
    "    hmk = h /(m*k)\n",
    "    qf = np.sqrt(h*P*k*Ac)*theta_b*(sinh(m*L)+hmk*cosh(m*L))/(cosh(m*L)+hmk*sinh(m*L))\n",
    "    return qf\n",
    "\n",
    "def calor_ad(L,theta_b,h,m,k,P,Ac):\n",
    "    \"\"\"\n",
    "    Calcula el calor total perdido en caso de que sea adibático\n",
    "    \"\"\"\n",
    "    hmk = 0 \n",
    "    qf = np.sqrt(h*P*k*Ac)*theta_b *(sinh(m*L)+hmk*cosh(m*L))/(cosh(m*L)+hmk*sinh(m*L))\n",
    "    return qf\n",
    "\n",
    "def fin_perfomance(m,L):\n",
    "    \"\"\"\n",
    "    Calcula la fin perfomance\n",
    "    \"\"\"\n",
    "    eta_fin = 1/(m*L)\n",
    "    return eta_fin\n",
    "\n",
    "def aleta_inf_ad(theta_b,m,x):\n",
    "    \"\"\"\n",
    "    Calcula el descenso de la temperatura de la aleta con la condicion de aleta infinita con theta_b\n",
    "    \"\"\"\n",
    "    theta_x = theta_b * np.exp(-m*x)\n",
    "    return theta_x\n",
    "\n",
    "\n",
    "def theta_conv(x,L,t_0,t_inf,h,m,k):\n",
    "    \"\"\"\n",
    "    Calcula el descenso de la temperatura convectiva a traves de la aleta con theta_b\n",
    "    \"\"\"\n",
    "    hmk = h /(m*k)\n",
    "    t_conv = t_inf + (t0- t_inf)*(cosh(m*(L - x)) + hmk*sinh(m*(L - x)))/(cosh(m*L) + hmk*sinh(m*L))\n",
    "    return t_conv - t_inf\n",
    "\n",
    "def theta_ad(x,L,t_0,t_inf,h,m,k):\n",
    "    \"\"\"\n",
    "    Calcula el descenso de la temperatura adibatica a traves de la aleta con theta_b\n",
    "    \"\"\"\n",
    "    t_ad = t_inf  + (t0-t_inf )*(cosh(m*(L - x)))/cosh(m*L)\n",
    "    return t_ad - t_inf\n",
    "def l_infinito(m):\n",
    "    \"\"\"\n",
    "    Obtiene el varlo de l_inf\n",
    "    \"\"\"\n",
    "    return 2.65*(1/np.sqrt(m))\n",
    "def rendimiento_aleta(calor,area_fin,h,theta_b):\n",
    "    \"\"\"\n",
    "    Calcula el rendimiento de la aleta con el uso del calor perdido\n",
    "    \"\"\"\n",
    "    return calor/ (area_fin*h*theta_b)\n",
    "\n",
    "def area_aleta_completa(largo,ancho,alto):\n",
    "    \"\"\"\n",
    "    Obtiene el area completa de la aleta\n",
    "    \"\"\"\n",
    "    return (largo*ancho)*2+(largo*alto)*2+(ancho*alto)\n",
    "def area_extremo_aleta(ancho,alto):\n",
    "    \"\"\"\n",
    "    Calcula el area del extremo de la aleta\n",
    "    \"\"\"\n",
    "    return ancho * alto\n",
    "\n",
    "def perimetro(ancho,alto):\n",
    "    \"\"\"\n",
    "    Calcual el perimitro del extremo de la aleta\n",
    "    \"\"\"\n",
    "    return ancho*2+alto*2\n",
    "\n",
    "def m_ad(perimetro,h,k,area):\n",
    "    \"\"\"\n",
    "    Calcula el valor de m\n",
    "    \"\"\"\n",
    "    return np.sqrt((h * perimetro)/ (k * area))\n",
    "\n",
    "def temp_ad_ml(L,x,t_0,t_inf,mL,h,k):\n",
    "    \"\"\"\n",
    "    Calcula el descenso de la temperatura adibatica a traves de la aleta para la condición de mL fijo\n",
    "    \"\"\"\n",
    "    m = mL/ L\n",
    "    t_ad = t_inf  + (t0-t_inf )*(cosh(m*(L - x)))/cosh(m*L)\n",
    "    return t_ad\n",
    "\n",
    "def calor_ad_ml(L,theta_b,h,mL,k,P,Ac):\n",
    "    \"\"\"\n",
    "    Calcula el descenso de la temperatura convectiva a traves de la aleta para la condición de mL fijo\n",
    "    \"\"\"\n",
    "    hmk = 0 \n",
    "    m = mL/ L\n",
    "    qf = np.sqrt(h*P*k*Ac)*theta_b *(sinh(m*L)+hmk*cosh(m*L))/(cosh(m*L)+hmk*sinh(m*L))\n",
    "    return qf"
   ]
  },
  {
   "cell_type": "markdown",
   "metadata": {},
   "source": [
    "## Declaración de variables"
   ]
  },
  {
   "cell_type": "code",
   "execution_count": 33,
   "metadata": {},
   "outputs": [
    {
     "data": {
      "text/plain": [
       "(0.012, 5e-06, 12.483755678647185)"
      ]
     },
     "execution_count": 33,
     "metadata": {},
     "output_type": "execute_result"
    }
   ],
   "source": [
    "ancho = 5e-3\n",
    "alto = 1e-3\n",
    "largo = 0.1\n",
    "t0 = 100 \n",
    "t_inf= 20\n",
    "theta_b = t0 - t_inf\n",
    "h = 25\n",
    "beta = h # por si acaso se nombra como beta\n",
    "k = 385\n",
    "P = perimetro(ancho,alto)\n",
    "a_aleta = area_extremo_aleta(ancho,alto)\n",
    "m = m_ad(P,h,k,a_aleta)\n",
    "P, a_aleta , m"
   ]
  },
  {
   "cell_type": "markdown",
   "metadata": {},
   "source": [
    "## Apartado 1\n",
    "Dibujo de perfiles y geometria"
   ]
  },
  {
   "cell_type": "code",
   "execution_count": 34,
   "metadata": {},
   "outputs": [
    {
     "data": {
      "application/vnd.jupyter.widget-view+json": {
       "model_id": "c4f1fe68c7744641a7da7c5e49a6796e",
       "version_major": 2,
       "version_minor": 0
      },
      "text/plain": [
       "Canvas(toolbar=Toolbar(toolitems=[('Home', 'Reset original view', 'home', 'home'), ('Back', 'Back to previous …"
      ]
     },
     "metadata": {},
     "output_type": "display_data"
    }
   ],
   "source": [
    "%matplotlib widget\n",
    "fig, ax = plt.subplots()\n",
    "x = np.linspace(0,largo,20) \n",
    "params = [x,largo,t0,t_inf,h,m,k]\n",
    "t_conv = temp_conv(*params)\n",
    "t_ad = temp_ad(*params)\n",
    "ax.plot(x,t_conv,label = \"Temperatura convectiva\")\n",
    "ax.plot(x,t_ad ,label = \"Temperatura adibática\")\n",
    "ax.set_xlabel(\"Longitud [m]\")\n",
    "ax.set_ylabel(\"Temperatura[ºC]\")\n",
    "ax.grid(True)\n",
    "ax.legend()\n",
    "fig.savefig(\"figuras/{}.png\".format(\"Apartado 1\"),dpi = 300)"
   ]
  },
  {
   "cell_type": "code",
   "execution_count": 35,
   "metadata": {},
   "outputs": [
    {
     "data": {
      "application/vnd.jupyter.widget-view+json": {
       "model_id": "55e4ad8a59d94bc7bfd91e60c2083439",
       "version_major": 2,
       "version_minor": 0
      },
      "text/plain": [
       "Canvas(toolbar=Toolbar(toolitems=[('Home', 'Reset original view', 'home', 'home'), ('Back', 'Back to previous …"
      ]
     },
     "metadata": {},
     "output_type": "display_data"
    },
    {
     "data": {
      "text/plain": [
       "<matplotlib.legend.Legend at 0x136a96100>"
      ]
     },
     "execution_count": 35,
     "metadata": {},
     "output_type": "execute_result"
    }
   ],
   "source": [
    "# Diferencia de la ley de temperaturas\n",
    "fig, ax = plt.subplots()\n",
    "ax.plot(x,abs(t_conv-t_ad),label = \"Diferencia en valores absoluto de temperaturas\")\n",
    "ax.set_xlabel(\"Longitud [m]\")\n",
    "ax.set_ylabel(\"Temperatura[ºC]\")\n",
    "ax.grid(True)\n",
    "ax.legend()"
   ]
  },
  {
   "cell_type": "markdown",
   "metadata": {},
   "source": [
    "## Calores adibáticos y covectivos perdidos de toda la aleta"
   ]
  },
  {
   "cell_type": "code",
   "execution_count": 36,
   "metadata": {},
   "outputs": [
    {
     "data": {
      "text/plain": [
       "(1.6299469846243018, 1.632746523928056)"
      ]
     },
     "execution_count": 36,
     "metadata": {},
     "output_type": "execute_result"
    }
   ],
   "source": [
    "params1 = [largo,theta_b,h,m,k,P,a_aleta]\n",
    "q_ad, q_conv = calor_ad(*params1),calor_conv(*params1)\n",
    "q_ad, q_conv"
   ]
  },
  {
   "cell_type": "markdown",
   "metadata": {},
   "source": [
    "# Apartado 2\n",
    "Calculo de la fin performance"
   ]
  },
  {
   "cell_type": "code",
   "execution_count": 37,
   "metadata": {},
   "outputs": [
    {
     "data": {
      "text/plain": [
       "(0.6774881842025129, 0.6763265496366397)"
      ]
     },
     "execution_count": 37,
     "metadata": {},
     "output_type": "execute_result"
    }
   ],
   "source": [
    "area_total_fin = area_aleta_completa(largo,alto,ancho)\n",
    "rendimiento_conv,rendimiento_ad = rendimiento_aleta(q_conv,area_total_fin,h,theta_b),rendimiento_aleta(q_ad,area_total_fin,h,theta_b)\n",
    "rendimiento_conv,rendimiento_ad "
   ]
  },
  {
   "cell_type": "markdown",
   "metadata": {},
   "source": [
    "# Aparatado 3\n",
    "Perfil térmico para la condicion de aleta infinita"
   ]
  },
  {
   "cell_type": "code",
   "execution_count": 38,
   "metadata": {},
   "outputs": [
    {
     "data": {
      "application/vnd.jupyter.widget-view+json": {
       "model_id": "b5b670d4b9824ec1809671b4d36cd372",
       "version_major": 2,
       "version_minor": 0
      },
      "text/plain": [
       "Canvas(toolbar=Toolbar(toolitems=[('Home', 'Reset original view', 'home', 'home'), ('Back', 'Back to previous …"
      ]
     },
     "metadata": {},
     "output_type": "display_data"
    }
   ],
   "source": [
    "temp_aleta_inf = aleta_inf_ad(theta_b,m,x) +20\n",
    "%matplotlib widget\n",
    "fig, ax = plt.subplots()\n",
    "ax.plot(x,temp_aleta_inf,label = \"Temperatura aleta infinita\")\n",
    "ax.set_xlabel(\"Longitud [m]\")\n",
    "ax.set_ylabel(\"Temperatura[ºC]\")\n",
    "ax.grid(True)\n",
    "ax.legend()\n",
    "fig.savefig(\"figuras/{}.png\".format(\"Apartado 3\"),dpi = 300)"
   ]
  },
  {
   "cell_type": "markdown",
   "metadata": {},
   "source": [
    "# Apartado 4\n",
    "Factor ML"
   ]
  },
  {
   "cell_type": "code",
   "execution_count": 39,
   "metadata": {},
   "outputs": [
    {
     "data": {
      "text/plain": [
       "1.2483755678647186"
      ]
     },
     "execution_count": 39,
     "metadata": {},
     "output_type": "execute_result"
    }
   ],
   "source": [
    "factor_ml = m*largo\n",
    "factor_ml"
   ]
  },
  {
   "cell_type": "markdown",
   "metadata": {},
   "source": [
    "Comparación de las temperaturas de la aleta para las disintas condiciones"
   ]
  },
  {
   "cell_type": "code",
   "execution_count": 40,
   "metadata": {},
   "outputs": [
    {
     "data": {
      "application/vnd.jupyter.widget-view+json": {
       "model_id": "f211ddb3c5cb48c7bb09845614e149af",
       "version_major": 2,
       "version_minor": 0
      },
      "text/plain": [
       "Canvas(toolbar=Toolbar(toolitems=[('Home', 'Reset original view', 'home', 'home'), ('Back', 'Back to previous …"
      ]
     },
     "metadata": {},
     "output_type": "display_data"
    }
   ],
   "source": [
    "%matplotlib widget\n",
    "\n",
    "fig, ax = plt.subplots()\n",
    "ax.plot(x,t_conv,label = \"Temperatura convectiva\")\n",
    "ax.plot(x,t_ad ,label = \"Temperatura adibática\")\n",
    "ax.plot(x,temp_aleta_inf, label = \"Temperatura aleta infinita\")\n",
    "ax.set_xlabel(\"Longitud [m]\")\n",
    "ax.set_ylabel(\"Temperatura[ºC]\")\n",
    "ax.grid(True)\n",
    "ax.legend()\n",
    "fig.savefig(\"figuras/{}.png\".format(\"Apartado 4\"),dpi = 300)"
   ]
  },
  {
   "cell_type": "code",
   "execution_count": 41,
   "metadata": {},
   "outputs": [
    {
     "data": {
      "application/vnd.jupyter.widget-view+json": {
       "model_id": "103552bdf2c54f84a3868ad6af749cc1",
       "version_major": 2,
       "version_minor": 0
      },
      "text/plain": [
       "Canvas(toolbar=Toolbar(toolitems=[('Home', 'Reset original view', 'home', 'home'), ('Back', 'Back to previous …"
      ]
     },
     "metadata": {},
     "output_type": "display_data"
    }
   ],
   "source": [
    "largo = 0.01\n",
    "x = np.linspace(0,largo,20) \n",
    "params = [x,largo,t0,t_inf,h,m,k]\n",
    "t_conv = temp_conv(*params)\n",
    "t_ad = temp_ad(*params)\n",
    "temp_aleta_inf = aleta_inf_ad(theta_b,m,x) +20\n",
    "%matplotlib widget\n",
    "fig, ax = plt.subplots()\n",
    "ax.plot(x,t_conv,label = \"Temperatura convectiva\")\n",
    "ax.scatter(x,t_ad ,label = \"Temperatura adibática\",marker = \"1\")\n",
    "ax.plot(x,temp_aleta_inf, label = \"Temperatura aleta infinita\")\n",
    "ax.set_xlabel(\"Longitud [m]\")\n",
    "ax.set_ylabel(\"Temperatura[ºC]\")\n",
    "ax.grid(True)\n",
    "ax.legend()\n",
    "fig.savefig(\"figuras/{}.png\".format(\"Apartado 4_1\"),dpi = 300)"
   ]
  },
  {
   "cell_type": "code",
   "execution_count": 42,
   "metadata": {},
   "outputs": [
    {
     "data": {
      "application/vnd.jupyter.widget-view+json": {
       "model_id": "f1afa1ac0c6f418bb778d85fbda43435",
       "version_major": 2,
       "version_minor": 0
      },
      "text/plain": [
       "Canvas(toolbar=Toolbar(toolitems=[('Home', 'Reset original view', 'home', 'home'), ('Back', 'Back to previous …"
      ]
     },
     "metadata": {},
     "output_type": "display_data"
    }
   ],
   "source": [
    "largo = 1\n",
    "x = np.linspace(0,largo,20) \n",
    "params = [x,largo,t0,t_inf,h,m,k]\n",
    "temp_aleta_inf = aleta_inf_ad(theta_b,m,x) +20\n",
    "t_conv = temp_conv(*params)\n",
    "t_ad = temp_ad(*params)\n",
    "%matplotlib widget\n",
    "fig, ax = plt.subplots()\n",
    "ax.plot(x,t_conv,label = \"Temperatura convectiva\")\n",
    "ax.scatter(x,t_ad ,label = \"Temperatura adibática\",marker = \"1\")\n",
    "ax.scatter(x,temp_aleta_inf, label = \"Temperatura aleta infinita\",marker = \"2\")\n",
    "ax.set_xlabel(\"Longitud [m]\")\n",
    "ax.set_ylabel(\"Temperatura[ºC]\")\n",
    "ax.grid(True)\n",
    "ax.legend()\n",
    "fig.savefig(\"figuras/{}.png\".format(\"Apartado 4_2\"),dpi = 300)"
   ]
  },
  {
   "cell_type": "code",
   "execution_count": 43,
   "metadata": {},
   "outputs": [
    {
     "data": {
      "text/plain": [
       "0.7500206895759659"
      ]
     },
     "execution_count": 43,
     "metadata": {},
     "output_type": "execute_result"
    }
   ],
   "source": [
    "l_inf = l_infinito(m)\n",
    "l_inf"
   ]
  },
  {
   "cell_type": "markdown",
   "metadata": {},
   "source": [
    "# Apartado 5"
   ]
  },
  {
   "cell_type": "code",
   "execution_count": 44,
   "metadata": {},
   "outputs": [
    {
     "data": {
      "application/vnd.jupyter.widget-view+json": {
       "model_id": "05233999771f48cd94158442e437a6cd",
       "version_major": 2,
       "version_minor": 0
      },
      "text/plain": [
       "Canvas(toolbar=Toolbar(toolitems=[('Home', 'Reset original view', 'home', 'home'), ('Back', 'Back to previous …"
      ]
     },
     "metadata": {},
     "output_type": "display_data"
    }
   ],
   "source": [
    "largo = 0.01\n",
    "x = np.linspace(0,largo,20) \n",
    "params = [x,largo,t0,t_inf,h,m,k]\n",
    "t_conv = temp_conv(*params)\n",
    "t_ad = temp_ad(*params)\n",
    "#temp_aleta_inf = aleta_inf_ad(theta_b,m,x) +20\n",
    "%matplotlib widget\n",
    "fig, ax = plt.subplots()\n",
    "ax.plot(x,t_conv,label = \"Temperatura convectiva\")\n",
    "ax.plot(x,t_ad ,label = \"Temperatura adibática\")\n",
    "#ax.plot(x,temp_aleta_inf, label = \"Temperatura aleta infinita\")\n",
    "ax.set_xlabel(\"Longitud [m]\")\n",
    "ax.set_ylabel(\"Temperatura[ºC]\")\n",
    "ax.grid(True)\n",
    "ax.legend()\n",
    "fig.savefig(\"figuras/{}.png\".format(\"Apartado 5_1\"),dpi = 300)"
   ]
  },
  {
   "cell_type": "code",
   "execution_count": 45,
   "metadata": {},
   "outputs": [
    {
     "data": {
      "application/vnd.jupyter.widget-view+json": {
       "model_id": "3cf22a22342f4cd88a55ad94f1a8fa2f",
       "version_major": 2,
       "version_minor": 0
      },
      "text/plain": [
       "Canvas(toolbar=Toolbar(toolitems=[('Home', 'Reset original view', 'home', 'home'), ('Back', 'Back to previous …"
      ]
     },
     "metadata": {},
     "output_type": "display_data"
    }
   ],
   "source": [
    "largo = 1\n",
    "x = np.linspace(0,largo,20) \n",
    "params = [x,largo,t0,t_inf,h,m,k]\n",
    "# temp_aleta_inf = aleta_inf_ad(theta_b,m,x) +20\n",
    "t_conv = temp_conv(*params)\n",
    "t_ad = temp_ad(*params)\n",
    "%matplotlib widget\n",
    "fig, ax = plt.subplots()\n",
    "ax.plot(x,t_conv,label = \"Temperatura convectiva\")\n",
    "ax.scatter(x,t_ad ,label = \"Temperatura adibática\",marker = \"1\",color = \"red\")\n",
    "# ax.scatter(x,temp_aleta_inf, label = \"Temperatura aleta infinita\",marker = \"2\")\n",
    "ax.set_xlabel(\"Longitud [m]\")\n",
    "ax.set_ylabel(\"Temperatura[ºC]\")\n",
    "ax.grid(True)\n",
    "ax.legend()\n",
    "fig.savefig(\"figuras/{}.png\".format(\"Apartado 5_\"),dpi = 300)"
   ]
  },
  {
   "cell_type": "markdown",
   "metadata": {},
   "source": [
    "# Apartado 6"
   ]
  },
  {
   "cell_type": "code",
   "execution_count": 46,
   "metadata": {},
   "outputs": [
    {
     "data": {
      "application/vnd.jupyter.widget-view+json": {
       "model_id": "ddfe8553bedc4d5c8b5862b77d2f9e6e",
       "version_major": 2,
       "version_minor": 0
      },
      "text/plain": [
       "Canvas(toolbar=Toolbar(toolitems=[('Home', 'Reset original view', 'home', 'home'), ('Back', 'Back to previous …"
      ]
     },
     "metadata": {},
     "output_type": "display_data"
    }
   ],
   "source": [
    "largo = 0.1\n",
    "nuevo_alto = 0.01\n",
    "P = perimetro(ancho,nuevo_alto)\n",
    "a_aleta = area_extremo_aleta(ancho,nuevo_alto)\n",
    "m = m_ad(P,h,k,a_aleta)\n",
    "x = np.linspace(0,largo,20) \n",
    "params = [x,largo,t0,t_inf,h,m,k]\n",
    "t_conv = temp_conv(*params)\n",
    "t_ad = temp_ad(*params)\n",
    "%matplotlib widget\n",
    "fig, ax = plt.subplots()\n",
    "ax.plot(x,t_conv,label = \"Temperatura convectiva\")\n",
    "ax.plot(x,t_ad ,label = \"Temperatura adibática\",color = \"red\")\n",
    "# ax.scatter(x,temp_aleta_inf, label = \"Temperatura aleta infinita\",marker = \"2\")\n",
    "ax.set_xlabel(\"Longitud [m]\")\n",
    "ax.set_ylabel(\"Temperatura[ºC]\")\n",
    "ax.grid(True)\n",
    "ax.legend()\n",
    "fig.savefig(\"figuras/{}.png\".format(\"Apartado 6_1\"),dpi = 300)"
   ]
  },
  {
   "cell_type": "code",
   "execution_count": 47,
   "metadata": {},
   "outputs": [
    {
     "data": {
      "text/plain": [
       "(5.325676881191107, 5.394584011759214)"
      ]
     },
     "execution_count": 47,
     "metadata": {},
     "output_type": "execute_result"
    }
   ],
   "source": [
    "params1 = [largo,theta_b,h,m,k,P,a_aleta]\n",
    "q_ad, q_conv = calor_ad(*params1),calor_conv(*params1)\n",
    "q_ad, q_conv "
   ]
  },
  {
   "cell_type": "code",
   "execution_count": 48,
   "metadata": {},
   "outputs": [
    {
     "data": {
      "application/vnd.jupyter.widget-view+json": {
       "model_id": "04a4ea7adf3c4438a78574f8e0760b2d",
       "version_major": 2,
       "version_minor": 0
      },
      "text/plain": [
       "Canvas(toolbar=Toolbar(toolitems=[('Home', 'Reset original view', 'home', 'home'), ('Back', 'Back to previous …"
      ]
     },
     "metadata": {},
     "output_type": "display_data"
    }
   ],
   "source": [
    "largo = 0.1\n",
    "nuevo_alto = 0.1\n",
    "P = perimetro(ancho,nuevo_alto)\n",
    "a_aleta = area_extremo_aleta(ancho,nuevo_alto)\n",
    "m = m_ad(P,h,k,a_aleta)\n",
    "x = np.linspace(0,largo,20) \n",
    "params = [x,largo,t0,t_inf,h,m,k]\n",
    "t_conv = temp_conv(*params)\n",
    "t_ad = temp_ad(*params)\n",
    "%matplotlib widget\n",
    "fig, ax = plt.subplots()\n",
    "ax.plot(x,t_conv,label = \"Temperatura convectiva\")\n",
    "ax.plot(x,t_ad ,label = \"Temperatura adibática\",color = \"red\")\n",
    "# ax.scatter(x,temp_aleta_inf, label = \"Temperatura aleta infinita\",marker = \"2\")\n",
    "ax.set_xlabel(\"Longitud [m]\")\n",
    "ax.set_ylabel(\"Temperatura[ºC]\")\n",
    "ax.grid(True)\n",
    "ax.legend()\n",
    "fig.savefig(\"figuras/{}.png\".format(\"Apartado 6_2\"),dpi = 300)\n"
   ]
  },
  {
   "cell_type": "code",
   "execution_count": 49,
   "metadata": {},
   "outputs": [
    {
     "data": {
      "text/plain": [
       "(38.5569424913965, 39.32253360659663)"
      ]
     },
     "execution_count": 49,
     "metadata": {},
     "output_type": "execute_result"
    }
   ],
   "source": [
    "params1 = [largo,theta_b,h,m,k,P,a_aleta]\n",
    "q_ad_01, q_conv_01 = calor_ad(*params1),calor_conv(*params1)\n",
    "q_ad_01, q_conv_01 "
   ]
  },
  {
   "cell_type": "markdown",
   "metadata": {},
   "source": [
    "# Aparatado 7\n",
    "Cambio de material"
   ]
  },
  {
   "cell_type": "code",
   "execution_count": 50,
   "metadata": {},
   "outputs": [
    {
     "data": {
      "text/plain": [
       "(0.4039746102639607, 0.40397488019154587)"
      ]
     },
     "execution_count": 50,
     "metadata": {},
     "output_type": "execute_result"
    }
   ],
   "source": [
    "k = 17\n",
    "P = perimetro(ancho,alto)\n",
    "a_aleta = area_extremo_aleta(ancho,alto)\n",
    "m = m_ad(P,h,k,a_aleta)\n",
    "params1 = [largo,theta_b,h,m,k,P,a_aleta]\n",
    "q_ad, q_conv = calor_ad(*params1),calor_conv(*params1)\n",
    "q_ad, q_conv"
   ]
  },
  {
   "cell_type": "code",
   "execution_count": 51,
   "metadata": {},
   "outputs": [
    {
     "data": {
      "application/vnd.jupyter.widget-view+json": {
       "model_id": "d38c550d60094892870aa1020a99c792",
       "version_major": 2,
       "version_minor": 0
      },
      "text/plain": [
       "Canvas(toolbar=Toolbar(toolitems=[('Home', 'Reset original view', 'home', 'home'), ('Back', 'Back to previous …"
      ]
     },
     "metadata": {},
     "output_type": "display_data"
    }
   ],
   "source": [
    "%matplotlib widget\n",
    "fig, ax = plt.subplots()\n",
    "x = np.linspace(0,largo,20) \n",
    "params = [x,largo,t0,t_inf,h,m,k]\n",
    "t_conv = temp_conv(*params)\n",
    "t_ad = temp_ad(*params)\n",
    "ax.plot(x,t_conv,label = \"Temperatura convectiva\")\n",
    "ax.plot(x,t_ad ,label = \"Temperatura adibática\")\n",
    "ax.set_xlabel(\"Longitud [m]\")\n",
    "ax.set_ylabel(\"Temperatura[ºC]\")\n",
    "ax.grid(True)\n",
    "ax.legend()\n",
    "fig.savefig(\"figuras/{}.png\".format(\"Apartado 7\"),dpi = 300)"
   ]
  },
  {
   "cell_type": "code",
   "execution_count": 52,
   "metadata": {},
   "outputs": [
    {
     "data": {
      "application/vnd.jupyter.widget-view+json": {
       "model_id": "065fcaee485644248afeea57c654f2cb",
       "version_major": 2,
       "version_minor": 0
      },
      "text/plain": [
       "Canvas(toolbar=Toolbar(toolitems=[('Home', 'Reset original view', 'home', 'home'), ('Back', 'Back to previous …"
      ]
     },
     "metadata": {},
     "output_type": "display_data"
    }
   ],
   "source": [
    "%matplotlib widget\n",
    "fig, ax = plt.subplots()\n",
    "x = np.linspace(0,largo,20) \n",
    "params = [x,largo,t0,t_inf,h,m,k]\n",
    "t_conv = temp_conv(*params)\n",
    "t_ad = temp_ad(*params)\n",
    "ax.plot(x,t_conv,label = \"Temperatura convectiva\")\n",
    "ax.plot(x,t_ad ,label = \"Temperatura adibática\")\n",
    "ax.set_xlabel(\"Longitud [m]\")\n",
    "ax.set_ylabel(\"Temperatura[ºC]\")\n",
    "ax.grid(True)\n",
    "ax.legend()\n",
    "fig.savefig(\"figuras/{}.png\".format(\"Apartado 7\"),dpi = 300)"
   ]
  },
  {
   "cell_type": "code",
   "execution_count": 53,
   "metadata": {},
   "outputs": [
    {
     "data": {
      "text/plain": [
       "0.3438114149492608"
      ]
     },
     "execution_count": 53,
     "metadata": {},
     "output_type": "execute_result"
    }
   ],
   "source": [
    "l_inf_mat = l_infinito(m)\n",
    "l_inf_mat"
   ]
  },
  {
   "cell_type": "markdown",
   "metadata": {},
   "source": [
    "# Apartado 8"
   ]
  },
  {
   "cell_type": "code",
   "execution_count": 54,
   "metadata": {},
   "outputs": [
    {
     "data": {
      "application/vnd.jupyter.widget-view+json": {
       "model_id": "7a3bc581fc544072bf70589766c633fe",
       "version_major": 2,
       "version_minor": 0
      },
      "text/plain": [
       "Canvas(toolbar=Toolbar(toolitems=[('Home', 'Reset original view', 'home', 'home'), ('Back', 'Back to previous …"
      ]
     },
     "metadata": {},
     "output_type": "display_data"
    }
   ],
   "source": [
    "h = 31\n",
    "k = 385\n",
    "P = perimetro(ancho,alto)\n",
    "a_aleta = area_extremo_aleta(ancho,alto)\n",
    "m = m_ad(P,h,k,a_aleta)\n",
    "%matplotlib widget\n",
    "fig, ax = plt.subplots()\n",
    "x = np.linspace(0,largo,20) \n",
    "params = [x,largo,t0,t_inf,h,m,k]\n",
    "\n",
    "t_conv = temp_conv(*params)\n",
    "t_conv_31 = t_conv\n",
    "t_ad = temp_ad(*params)\n",
    "t_ad_31 = t_ad\n",
    "ax.plot(x,t_conv,label = \"Temperatura convectiva\")\n",
    "ax.plot(x,t_ad ,label = \"Temperatura adibática\")\n",
    "ax.set_xlabel(\"Longitud [m]\")\n",
    "ax.set_ylabel(\"Temperatura[ºC]\")\n",
    "ax.grid(True)\n",
    "ax.legend()\n",
    "fig.savefig(\"figuras/{}.png\".format(\"Apartado 8_1\"),dpi = 300)\n",
    "mL = m*largo"
   ]
  },
  {
   "cell_type": "code",
   "execution_count": 55,
   "metadata": {},
   "outputs": [
    {
     "data": {
      "text/plain": [
       "(1.3901321996369742, 1.8907576656026586, 1.8934712605687878)"
      ]
     },
     "execution_count": 55,
     "metadata": {},
     "output_type": "execute_result"
    }
   ],
   "source": [
    "params1 = [largo,theta_b,h,m,k,P,a_aleta]\n",
    "q_ad, q_conv = calor_ad(*params1),calor_conv(*params1)\n",
    "mL,q_ad, q_conv"
   ]
  },
  {
   "cell_type": "code",
   "execution_count": 56,
   "metadata": {},
   "outputs": [
    {
     "data": {
      "application/vnd.jupyter.widget-view+json": {
       "model_id": "5fe9eb3bc8f64d8381e2f6547111f993",
       "version_major": 2,
       "version_minor": 0
      },
      "text/plain": [
       "Canvas(toolbar=Toolbar(toolitems=[('Home', 'Reset original view', 'home', 'home'), ('Back', 'Back to previous …"
      ]
     },
     "metadata": {},
     "output_type": "display_data"
    }
   ],
   "source": [
    "h = 38\n",
    "k = 385\n",
    "P = perimetro(ancho,alto)\n",
    "a_aleta = area_extremo_aleta(ancho,alto)\n",
    "m = m_ad(P,h,k,a_aleta)\n",
    "%matplotlib widget\n",
    "fig, ax = plt.subplots()\n",
    "x = np.linspace(0,largo,20) \n",
    "params = [x,largo,t0,t_inf,h,m,k]\n",
    "t_conv = temp_conv(*params)\n",
    "t_ad = temp_ad(*params)\n",
    "ax.plot(x,t_conv,label = \"T_convectiva h= 38\")\n",
    "ax.plot(x,t_ad ,label = \"T_adibática  h= 38\")\n",
    "ax.plot(x,t_conv_31,label = \"T_convectiva h= 31\")\n",
    "ax.plot(x,t_ad_31,label = \"T_adibática  h= 31\")\n",
    "ax.set_xlabel(\"Longitud [m]\")\n",
    "ax.set_ylabel(\"Temperatura[ºC]\")\n",
    "ax.grid(True)\n",
    "ax.legend()\n",
    "fig.savefig(\"figuras/{}.png\".format(\"Apartado 8_1_5\"),dpi = 300)\n",
    "mL = m*largo"
   ]
  },
  {
   "cell_type": "code",
   "execution_count": 57,
   "metadata": {},
   "outputs": [
    {
     "data": {
      "text/plain": [
       "(1.5391007663019238, 2.161563102230165, 2.1641065737692524)"
      ]
     },
     "execution_count": 57,
     "metadata": {},
     "output_type": "execute_result"
    }
   ],
   "source": [
    "params1 = [largo,theta_b,h,m,k,P,a_aleta]\n",
    "q_ad, q_conv = calor_ad(*params1),calor_conv(*params1)\n",
    "mL,q_ad, q_conv"
   ]
  },
  {
   "cell_type": "code",
   "execution_count": 58,
   "metadata": {},
   "outputs": [
    {
     "data": {
      "application/vnd.jupyter.widget-view+json": {
       "model_id": "8de6e1348aa847579874ddec3b416af9",
       "version_major": 2,
       "version_minor": 0
      },
      "text/plain": [
       "Canvas(toolbar=Toolbar(toolitems=[('Home', 'Reset original view', 'home', 'home'), ('Back', 'Back to previous …"
      ]
     },
     "metadata": {},
     "output_type": "display_data"
    }
   ],
   "source": [
    "h = 25\n",
    "k = 385\n",
    "largo = 0.1\n",
    "P = perimetro(ancho,alto)\n",
    "a_aleta = area_extremo_aleta(ancho,alto)\n",
    "m = m_ad(P,h,k,a_aleta)\n",
    "%matplotlib widget\n",
    "fig, ax = plt.subplots()\n",
    "x = np.linspace(0,largo,20) \n",
    "ax.plot(x,temp_ad_ml(largo,x,t0,t_inf, 1, h, k),label = \"mL = 1\")\n",
    "ax.plot(x,temp_ad_ml(largo,x,t0,t_inf,3, h, k),label = \"mL = 3\")\n",
    "ax.plot(x,temp_ad_ml(largo,x,t0,t_inf,8 , h, k),label = \"mL = 8\")\n",
    "ax.set_xlabel(\"Longitud [m]\")\n",
    "ax.set_ylabel(\"Temperatura[ºC]\")\n",
    "ax.grid(True)\n",
    "ax.legend()\n",
    "fig.savefig(\"figuras/{}.png\".format(\"Apartado 8_2\"),dpi = 300)\n",
    "mL = m*largo"
   ]
  },
  {
   "cell_type": "code",
   "execution_count": 59,
   "metadata": {},
   "outputs": [],
   "source": [
    "q1,q2,q3 = calor_ad_ml(largo,theta_b,h,1,k,P,a_aleta),calor_ad_ml(largo,theta_b,h,3,k,P,a_aleta),calor_ad_ml(largo,theta_b,h,8,k,P,a_aleta)"
   ]
  },
  {
   "cell_type": "code",
   "execution_count": 60,
   "metadata": {},
   "outputs": [
    {
     "data": {
      "text/plain": [
       "(1.4641635268625424, 1.912991146512846, 1.9224979418143342)"
      ]
     },
     "execution_count": 60,
     "metadata": {},
     "output_type": "execute_result"
    }
   ],
   "source": [
    "q1,q2,q3"
   ]
  }
 ],
 "metadata": {
  "kernelspec": {
   "display_name": "Python 3",
   "language": "python",
   "name": "python3"
  },
  "language_info": {
   "codemirror_mode": {
    "name": "ipython",
    "version": 3
   },
   "file_extension": ".py",
   "mimetype": "text/x-python",
   "name": "python",
   "nbconvert_exporter": "python",
   "pygments_lexer": "ipython3",
   "version": "3.9.2"
  }
 },
 "nbformat": 4,
 "nbformat_minor": 4
}
